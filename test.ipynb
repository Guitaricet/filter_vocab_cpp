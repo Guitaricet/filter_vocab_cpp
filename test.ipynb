{
 "cells": [
  {
   "cell_type": "code",
   "execution_count": 1,
   "metadata": {},
   "outputs": [],
   "source": [
    "import text_filter"
   ]
  },
  {
   "cell_type": "code",
   "execution_count": 2,
   "metadata": {},
   "outputs": [],
   "source": [
    "import pandas as pd\n",
    "vocab = pd.read_csv(\"AOChildes_word_frequency.csv\", index_col=0)\n",
    "vocab = set(w.lower() for w in vocab[\"word\"] if isinstance(w, str))  # check for str is important!"
   ]
  },
  {
   "cell_type": "code",
   "execution_count": 3,
   "metadata": {},
   "outputs": [
    {
     "data": {
      "text/plain": [
       "['This', ' ', 'is', ' ', 'a', ' ', 'text', ' ', 'to', ' ', 'tokenize']"
      ]
     },
     "execution_count": 3,
     "metadata": {},
     "output_type": "execute_result"
    }
   ],
   "source": [
    "text_filter.tokenize(\"This is a text to tokenize\")"
   ]
  },
  {
   "cell_type": "code",
   "execution_count": 5,
   "metadata": {},
   "outputs": [
    {
     "data": {
      "text/plain": [
       "[('This is a text ', <text_filter.FilteringInfo at 0x7fc1c6764d30>)]"
      ]
     },
     "execution_count": 5,
     "metadata": {},
     "output_type": "execute_result"
    }
   ],
   "source": [
    "min_text_len = 3\n",
    "p_oov_max = 0.10\n",
    "from_sentence_start_only = True\n",
    "text_filter.filter_vocab(\"This is a text to tokenize\", vocab, min_text_len, p_oov_max, from_sentence_start_only)"
   ]
  },
  {
   "cell_type": "code",
   "execution_count": 4,
   "metadata": {},
   "outputs": [
    {
     "name": "stdout",
     "output_type": "stream",
     "text": [
      "['This', ' ', 'is', ' ', 'a', ' ', 'sample', ' ', 'text', '.', ' ', 'Some', ' ', 'words', ' ', 'are', ' ', 'out', ' ', 'of', ' ', 'vocabulary', ' ', 'like', ' ', 'extraterrestrial', ' ', 'and', ' ', 'martian', '.']\n"
     ]
    },
    {
     "data": {
      "text/plain": [
       "[('This is a sample text. Some words are out of vocabulary like extraterrestrial and martian.',\n",
       "  <text_filter.FilteringInfo at 0x7fc1c67422b0>)]"
      ]
     },
     "execution_count": 4,
     "metadata": {},
     "output_type": "execute_result"
    }
   ],
   "source": [
    "text = \"This is a sample text. Some words are out of vocabulary like extraterrestrial and martian.\"\n",
    "vocab = set([\"this\", \"is\", \"a\", \"sample\", \"text\", \".\", \"some\", \"words\", \"are\", \"out\", \"of\", \"vocabulary\", \"like\"])\n",
    "\n",
    "print(text_filter.tokenize(text))\n",
    "chunks = text_filter.filter_vocab(text, vocab, 3, 0.2, True)\n",
    "chunks"
   ]
  },
  {
   "cell_type": "code",
   "execution_count": 3,
   "metadata": {},
   "outputs": [
    {
     "name": "stdout",
     "output_type": "stream",
     "text": [
      "['This', ' ', 'is']\n"
     ]
    },
    {
     "data": {
      "text/plain": [
       "[('This is', FilteringInfo(word_count=2, oov_count=0))]"
      ]
     },
     "execution_count": 3,
     "metadata": {},
     "output_type": "execute_result"
    }
   ],
   "source": [
    "text = \"This is\"\n",
    "vocab = set([\"this\", \"is\"])\n",
    "\n",
    "print(text_filter.tokenize(text))\n",
    "chunks = text_filter.filter_vocab(text, vocab, 0, 0.0, True)\n",
    "chunks"
   ]
  },
  {
   "cell_type": "code",
   "execution_count": 8,
   "metadata": {},
   "outputs": [
    {
     "data": {
      "text/plain": [
       "<text_filter.FilteringInfo at 0x7fc1c67422b0>"
      ]
     },
     "execution_count": 8,
     "metadata": {},
     "output_type": "execute_result"
    }
   ],
   "source": [
    "chunks[0][1]"
   ]
  }
 ],
 "metadata": {
  "kernelspec": {
   "display_name": "base",
   "language": "python",
   "name": "python3"
  },
  "language_info": {
   "codemirror_mode": {
    "name": "ipython",
    "version": 3
   },
   "file_extension": ".py",
   "mimetype": "text/x-python",
   "name": "python",
   "nbconvert_exporter": "python",
   "pygments_lexer": "ipython3",
   "version": "3.10.9"
  },
  "orig_nbformat": 4
 },
 "nbformat": 4,
 "nbformat_minor": 2
}
